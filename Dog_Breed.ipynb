{
 "cells": [
  {
   "cell_type": "code",
   "execution_count": 10,
   "id": "d6e80c2d",
   "metadata": {},
   "outputs": [],
   "source": [
    "import zipfile\n",
    "import os\n",
    "import cv2\n",
    "import re\n",
    "import numpy as np\n",
    "import pandas as pd"
   ]
  },
  {
   "cell_type": "code",
   "execution_count": 11,
   "id": "03aa3e6b",
   "metadata": {},
   "outputs": [],
   "source": [
    "folder = r\"C:\\Users\\Admin\\Downloads\\Dog_breed.zip\""
   ]
  },
  {
   "cell_type": "code",
   "execution_count": 12,
   "id": "eb1ba1e3",
   "metadata": {},
   "outputs": [],
   "source": [
    "# Extracting the files\n",
    "\n",
    "file_path = r\"F:\\Dog_Breed-\"  # where we want to extract the zip file\n",
    "with zipfile.ZipFile(folder,'r') as file:\n",
    "    file.extractall(file_path)"
   ]
  },
  {
   "cell_type": "code",
   "execution_count": 13,
   "id": "fca7068c",
   "metadata": {},
   "outputs": [
    {
     "data": {
      "text/plain": [
       "'F:\\\\Dog_Breed\\\\dataset'"
      ]
     },
     "execution_count": 13,
     "metadata": {},
     "output_type": "execute_result"
    }
   ],
   "source": [
    "os.getcwd()"
   ]
  },
  {
   "cell_type": "code",
   "execution_count": 14,
   "id": "d28099a6",
   "metadata": {},
   "outputs": [],
   "source": [
    "os.chdir(file_path)"
   ]
  },
  {
   "cell_type": "code",
   "execution_count": 15,
   "id": "53ce2d97",
   "metadata": {},
   "outputs": [
    {
     "data": {
      "text/plain": [
       "['dataset']"
      ]
     },
     "execution_count": 15,
     "metadata": {},
     "output_type": "execute_result"
    }
   ],
   "source": [
    "os.listdir()"
   ]
  },
  {
   "cell_type": "code",
   "execution_count": 16,
   "id": "faac741a",
   "metadata": {},
   "outputs": [
    {
     "ename": "SyntaxError",
     "evalue": "unterminated string literal (detected at line 1) (569072514.py, line 1)",
     "output_type": "error",
     "traceback": [
      "\u001b[1;36m  Cell \u001b[1;32mIn[16], line 1\u001b[1;36m\u001b[0m\n\u001b[1;33m    os.getcwd()+'\\\\'+'dataset\u001b[0m\n\u001b[1;37m                     ^\u001b[0m\n\u001b[1;31mSyntaxError\u001b[0m\u001b[1;31m:\u001b[0m unterminated string literal (detected at line 1)\n"
     ]
    }
   ],
   "source": [
    "os.getcwd()+'\\\\'+'dataset"
   ]
  },
  {
   "cell_type": "code",
   "execution_count": 17,
   "id": "fb8a1367",
   "metadata": {},
   "outputs": [],
   "source": [
    "original = os.getcwd()+'\\\\'+'dataset'\n",
    "os.chdir(original)"
   ]
  },
  {
   "cell_type": "code",
   "execution_count": 18,
   "id": "e812b61b",
   "metadata": {},
   "outputs": [
    {
     "data": {
      "text/plain": [
       "'F:\\\\Dog_Breed-\\\\dataset'"
      ]
     },
     "execution_count": 18,
     "metadata": {},
     "output_type": "execute_result"
    }
   ],
   "source": [
    "os.getcwd()"
   ]
  },
  {
   "cell_type": "code",
   "execution_count": 19,
   "id": "a23f7a2d",
   "metadata": {},
   "outputs": [
    {
     "data": {
      "text/plain": [
       "['Beagle',\n",
       " 'Boxer',\n",
       " 'Bulldog',\n",
       " 'Dachshund',\n",
       " 'German_Shepherd',\n",
       " 'Golden_Retriever',\n",
       " 'Labrador_Retriever',\n",
       " 'Poodle',\n",
       " 'Rottweiler',\n",
       " 'Yorkshire_Terrier']"
      ]
     },
     "execution_count": 19,
     "metadata": {},
     "output_type": "execute_result"
    }
   ],
   "source": [
    "os.listdir()"
   ]
  },
  {
   "cell_type": "code",
   "execution_count": 20,
   "id": "1ed82079",
   "metadata": {},
   "outputs": [
    {
     "name": "stdout",
     "output_type": "stream",
     "text": [
      "Beagle\n",
      "Boxer\n",
      "Bulldog\n",
      "Dachshund\n",
      "German_Shepherd\n",
      "Golden_Retriever\n",
      "Labrador_Retriever\n",
      "Poodle\n",
      "Rottweiler\n",
      "Yorkshire_Terrier\n"
     ]
    }
   ],
   "source": [
    "for i in os.listdir():\n",
    "    print(i)"
   ]
  },
  {
   "cell_type": "code",
   "execution_count": 21,
   "id": "88f3e7e0",
   "metadata": {},
   "outputs": [],
   "source": [
    "\n",
    "Rows = []  # empty list for rows of image\n",
    "label = []  # Breed names\n",
    "\n",
    "pattern = r\"\\b([A-Za-z]+?)_\\d+\\b\"\n",
    "\n",
    "for i in os.listdir():\n",
    "    path = original+'\\\\'+i    # getiing thet path each folder i.e digit 0,1\n",
    "    os.chdir(path)\n",
    "    \n",
    "    \n",
    "    for j in os.listdir():      # entering into folders\n",
    "        array = cv2.imread(j,0)  # reading the image as array\n",
    "        resized = cv2.resize(array,(100,100))   # resizing for uniformity\n",
    "        row = resized.flatten()  # making image as a row\n",
    "        Rows.append(row)\n",
    "        match = re.search(pattern,j)\n",
    "        if match:\n",
    "            label.append(match.group(1))   # # Extract the breed name from the folder name\n",
    "\n",
    "\n",
    "df1 = pd.DataFrame(Rows)\n",
    "df2 = pd.DataFrame(label,columns = ['Breed'])\n",
    "df = pd.concat([df1,df2], axis = 1)   # creating the dataframe\n"
   ]
  },
  {
   "cell_type": "code",
   "execution_count": 22,
   "id": "fedd4d4e",
   "metadata": {},
   "outputs": [
    {
     "data": {
      "text/html": [
       "<div>\n",
       "<style scoped>\n",
       "    .dataframe tbody tr th:only-of-type {\n",
       "        vertical-align: middle;\n",
       "    }\n",
       "\n",
       "    .dataframe tbody tr th {\n",
       "        vertical-align: top;\n",
       "    }\n",
       "\n",
       "    .dataframe thead th {\n",
       "        text-align: right;\n",
       "    }\n",
       "</style>\n",
       "<table border=\"1\" class=\"dataframe\">\n",
       "  <thead>\n",
       "    <tr style=\"text-align: right;\">\n",
       "      <th></th>\n",
       "      <th>0</th>\n",
       "      <th>1</th>\n",
       "      <th>2</th>\n",
       "      <th>3</th>\n",
       "      <th>4</th>\n",
       "      <th>5</th>\n",
       "      <th>6</th>\n",
       "      <th>7</th>\n",
       "      <th>8</th>\n",
       "      <th>9</th>\n",
       "      <th>...</th>\n",
       "      <th>9991</th>\n",
       "      <th>9992</th>\n",
       "      <th>9993</th>\n",
       "      <th>9994</th>\n",
       "      <th>9995</th>\n",
       "      <th>9996</th>\n",
       "      <th>9997</th>\n",
       "      <th>9998</th>\n",
       "      <th>9999</th>\n",
       "      <th>Breed</th>\n",
       "    </tr>\n",
       "  </thead>\n",
       "  <tbody>\n",
       "    <tr>\n",
       "      <th>0</th>\n",
       "      <td>0</td>\n",
       "      <td>4</td>\n",
       "      <td>11</td>\n",
       "      <td>18</td>\n",
       "      <td>23</td>\n",
       "      <td>8</td>\n",
       "      <td>6</td>\n",
       "      <td>7</td>\n",
       "      <td>7</td>\n",
       "      <td>2</td>\n",
       "      <td>...</td>\n",
       "      <td>133</td>\n",
       "      <td>132</td>\n",
       "      <td>132</td>\n",
       "      <td>126</td>\n",
       "      <td>129</td>\n",
       "      <td>131</td>\n",
       "      <td>128</td>\n",
       "      <td>125</td>\n",
       "      <td>127</td>\n",
       "      <td>Beagle</td>\n",
       "    </tr>\n",
       "    <tr>\n",
       "      <th>1</th>\n",
       "      <td>255</td>\n",
       "      <td>255</td>\n",
       "      <td>255</td>\n",
       "      <td>255</td>\n",
       "      <td>255</td>\n",
       "      <td>255</td>\n",
       "      <td>255</td>\n",
       "      <td>255</td>\n",
       "      <td>255</td>\n",
       "      <td>255</td>\n",
       "      <td>...</td>\n",
       "      <td>255</td>\n",
       "      <td>255</td>\n",
       "      <td>255</td>\n",
       "      <td>255</td>\n",
       "      <td>255</td>\n",
       "      <td>255</td>\n",
       "      <td>255</td>\n",
       "      <td>255</td>\n",
       "      <td>255</td>\n",
       "      <td>Beagle</td>\n",
       "    </tr>\n",
       "    <tr>\n",
       "      <th>2</th>\n",
       "      <td>184</td>\n",
       "      <td>181</td>\n",
       "      <td>149</td>\n",
       "      <td>105</td>\n",
       "      <td>67</td>\n",
       "      <td>68</td>\n",
       "      <td>68</td>\n",
       "      <td>70</td>\n",
       "      <td>75</td>\n",
       "      <td>79</td>\n",
       "      <td>...</td>\n",
       "      <td>172</td>\n",
       "      <td>169</td>\n",
       "      <td>167</td>\n",
       "      <td>165</td>\n",
       "      <td>165</td>\n",
       "      <td>164</td>\n",
       "      <td>161</td>\n",
       "      <td>159</td>\n",
       "      <td>154</td>\n",
       "      <td>Beagle</td>\n",
       "    </tr>\n",
       "    <tr>\n",
       "      <th>3</th>\n",
       "      <td>217</td>\n",
       "      <td>220</td>\n",
       "      <td>222</td>\n",
       "      <td>225</td>\n",
       "      <td>228</td>\n",
       "      <td>232</td>\n",
       "      <td>234</td>\n",
       "      <td>236</td>\n",
       "      <td>239</td>\n",
       "      <td>240</td>\n",
       "      <td>...</td>\n",
       "      <td>75</td>\n",
       "      <td>98</td>\n",
       "      <td>109</td>\n",
       "      <td>99</td>\n",
       "      <td>119</td>\n",
       "      <td>103</td>\n",
       "      <td>92</td>\n",
       "      <td>91</td>\n",
       "      <td>84</td>\n",
       "      <td>Beagle</td>\n",
       "    </tr>\n",
       "    <tr>\n",
       "      <th>4</th>\n",
       "      <td>155</td>\n",
       "      <td>155</td>\n",
       "      <td>162</td>\n",
       "      <td>173</td>\n",
       "      <td>178</td>\n",
       "      <td>177</td>\n",
       "      <td>179</td>\n",
       "      <td>178</td>\n",
       "      <td>177</td>\n",
       "      <td>175</td>\n",
       "      <td>...</td>\n",
       "      <td>136</td>\n",
       "      <td>131</td>\n",
       "      <td>131</td>\n",
       "      <td>123</td>\n",
       "      <td>124</td>\n",
       "      <td>129</td>\n",
       "      <td>134</td>\n",
       "      <td>135</td>\n",
       "      <td>132</td>\n",
       "      <td>Beagle</td>\n",
       "    </tr>\n",
       "    <tr>\n",
       "      <th>...</th>\n",
       "      <td>...</td>\n",
       "      <td>...</td>\n",
       "      <td>...</td>\n",
       "      <td>...</td>\n",
       "      <td>...</td>\n",
       "      <td>...</td>\n",
       "      <td>...</td>\n",
       "      <td>...</td>\n",
       "      <td>...</td>\n",
       "      <td>...</td>\n",
       "      <td>...</td>\n",
       "      <td>...</td>\n",
       "      <td>...</td>\n",
       "      <td>...</td>\n",
       "      <td>...</td>\n",
       "      <td>...</td>\n",
       "      <td>...</td>\n",
       "      <td>...</td>\n",
       "      <td>...</td>\n",
       "      <td>...</td>\n",
       "      <td>...</td>\n",
       "    </tr>\n",
       "    <tr>\n",
       "      <th>962</th>\n",
       "      <td>19</td>\n",
       "      <td>18</td>\n",
       "      <td>17</td>\n",
       "      <td>15</td>\n",
       "      <td>14</td>\n",
       "      <td>14</td>\n",
       "      <td>14</td>\n",
       "      <td>14</td>\n",
       "      <td>19</td>\n",
       "      <td>30</td>\n",
       "      <td>...</td>\n",
       "      <td>208</td>\n",
       "      <td>206</td>\n",
       "      <td>204</td>\n",
       "      <td>204</td>\n",
       "      <td>206</td>\n",
       "      <td>205</td>\n",
       "      <td>203</td>\n",
       "      <td>201</td>\n",
       "      <td>201</td>\n",
       "      <td>Terrier</td>\n",
       "    </tr>\n",
       "    <tr>\n",
       "      <th>963</th>\n",
       "      <td>255</td>\n",
       "      <td>255</td>\n",
       "      <td>255</td>\n",
       "      <td>255</td>\n",
       "      <td>255</td>\n",
       "      <td>255</td>\n",
       "      <td>255</td>\n",
       "      <td>255</td>\n",
       "      <td>255</td>\n",
       "      <td>255</td>\n",
       "      <td>...</td>\n",
       "      <td>255</td>\n",
       "      <td>255</td>\n",
       "      <td>255</td>\n",
       "      <td>255</td>\n",
       "      <td>255</td>\n",
       "      <td>255</td>\n",
       "      <td>255</td>\n",
       "      <td>255</td>\n",
       "      <td>255</td>\n",
       "      <td>Terrier</td>\n",
       "    </tr>\n",
       "    <tr>\n",
       "      <th>964</th>\n",
       "      <td>80</td>\n",
       "      <td>79</td>\n",
       "      <td>76</td>\n",
       "      <td>75</td>\n",
       "      <td>73</td>\n",
       "      <td>72</td>\n",
       "      <td>72</td>\n",
       "      <td>87</td>\n",
       "      <td>112</td>\n",
       "      <td>133</td>\n",
       "      <td>...</td>\n",
       "      <td>119</td>\n",
       "      <td>112</td>\n",
       "      <td>128</td>\n",
       "      <td>138</td>\n",
       "      <td>134</td>\n",
       "      <td>125</td>\n",
       "      <td>126</td>\n",
       "      <td>128</td>\n",
       "      <td>125</td>\n",
       "      <td>Terrier</td>\n",
       "    </tr>\n",
       "    <tr>\n",
       "      <th>965</th>\n",
       "      <td>63</td>\n",
       "      <td>63</td>\n",
       "      <td>64</td>\n",
       "      <td>65</td>\n",
       "      <td>67</td>\n",
       "      <td>67</td>\n",
       "      <td>69</td>\n",
       "      <td>68</td>\n",
       "      <td>68</td>\n",
       "      <td>68</td>\n",
       "      <td>...</td>\n",
       "      <td>66</td>\n",
       "      <td>65</td>\n",
       "      <td>65</td>\n",
       "      <td>64</td>\n",
       "      <td>63</td>\n",
       "      <td>63</td>\n",
       "      <td>63</td>\n",
       "      <td>63</td>\n",
       "      <td>63</td>\n",
       "      <td>Terrier</td>\n",
       "    </tr>\n",
       "    <tr>\n",
       "      <th>966</th>\n",
       "      <td>93</td>\n",
       "      <td>85</td>\n",
       "      <td>77</td>\n",
       "      <td>79</td>\n",
       "      <td>88</td>\n",
       "      <td>85</td>\n",
       "      <td>78</td>\n",
       "      <td>63</td>\n",
       "      <td>72</td>\n",
       "      <td>86</td>\n",
       "      <td>...</td>\n",
       "      <td>106</td>\n",
       "      <td>95</td>\n",
       "      <td>96</td>\n",
       "      <td>81</td>\n",
       "      <td>76</td>\n",
       "      <td>63</td>\n",
       "      <td>60</td>\n",
       "      <td>56</td>\n",
       "      <td>58</td>\n",
       "      <td>Terrier</td>\n",
       "    </tr>\n",
       "  </tbody>\n",
       "</table>\n",
       "<p>967 rows × 10001 columns</p>\n",
       "</div>"
      ],
      "text/plain": [
       "       0    1    2    3    4    5    6    7    8    9  ...  9991  9992  9993  \\\n",
       "0      0    4   11   18   23    8    6    7    7    2  ...   133   132   132   \n",
       "1    255  255  255  255  255  255  255  255  255  255  ...   255   255   255   \n",
       "2    184  181  149  105   67   68   68   70   75   79  ...   172   169   167   \n",
       "3    217  220  222  225  228  232  234  236  239  240  ...    75    98   109   \n",
       "4    155  155  162  173  178  177  179  178  177  175  ...   136   131   131   \n",
       "..   ...  ...  ...  ...  ...  ...  ...  ...  ...  ...  ...   ...   ...   ...   \n",
       "962   19   18   17   15   14   14   14   14   19   30  ...   208   206   204   \n",
       "963  255  255  255  255  255  255  255  255  255  255  ...   255   255   255   \n",
       "964   80   79   76   75   73   72   72   87  112  133  ...   119   112   128   \n",
       "965   63   63   64   65   67   67   69   68   68   68  ...    66    65    65   \n",
       "966   93   85   77   79   88   85   78   63   72   86  ...   106    95    96   \n",
       "\n",
       "     9994  9995  9996  9997  9998  9999    Breed  \n",
       "0     126   129   131   128   125   127   Beagle  \n",
       "1     255   255   255   255   255   255   Beagle  \n",
       "2     165   165   164   161   159   154   Beagle  \n",
       "3      99   119   103    92    91    84   Beagle  \n",
       "4     123   124   129   134   135   132   Beagle  \n",
       "..    ...   ...   ...   ...   ...   ...      ...  \n",
       "962   204   206   205   203   201   201  Terrier  \n",
       "963   255   255   255   255   255   255  Terrier  \n",
       "964   138   134   125   126   128   125  Terrier  \n",
       "965    64    63    63    63    63    63  Terrier  \n",
       "966    81    76    63    60    56    58  Terrier  \n",
       "\n",
       "[967 rows x 10001 columns]"
      ]
     },
     "execution_count": 22,
     "metadata": {},
     "output_type": "execute_result"
    }
   ],
   "source": [
    "df"
   ]
  },
  {
   "cell_type": "code",
   "execution_count": 23,
   "id": "3b12ed30",
   "metadata": {},
   "outputs": [],
   "source": [
    "df.to_csv('Breed.csv')"
   ]
  },
  {
   "cell_type": "markdown",
   "id": "6352e0d2",
   "metadata": {},
   "source": [
    "# Model Building"
   ]
  },
  {
   "cell_type": "code",
   "execution_count": 24,
   "id": "5dcbf21f",
   "metadata": {},
   "outputs": [],
   "source": [
    "X = df.drop('Breed',axis = 1)\n",
    "y = df['Breed']"
   ]
  },
  {
   "cell_type": "code",
   "execution_count": 25,
   "id": "bb085445",
   "metadata": {},
   "outputs": [],
   "source": [
    "from sklearn.model_selection import train_test_split\n",
    "\n",
    "from sklearn.metrics import accuracy_score"
   ]
  },
  {
   "cell_type": "code",
   "execution_count": 26,
   "id": "46dc400c",
   "metadata": {},
   "outputs": [],
   "source": [
    "X_train,X_test,y_train,y_test = train_test_split(X,y,test_size=0.2,random_state=23)"
   ]
  },
  {
   "cell_type": "code",
   "execution_count": null,
   "id": "b097f85b",
   "metadata": {},
   "outputs": [],
   "source": []
  },
  {
   "cell_type": "markdown",
   "id": "4cb7e213",
   "metadata": {},
   "source": [
    "# KNN"
   ]
  },
  {
   "cell_type": "code",
   "execution_count": 27,
   "id": "99c640bd",
   "metadata": {},
   "outputs": [
    {
     "data": {
      "text/plain": [
       "0.8298969072164949"
      ]
     },
     "execution_count": 27,
     "metadata": {},
     "output_type": "execute_result"
    }
   ],
   "source": [
    "from sklearn.neighbors import KNeighborsClassifier\n",
    "knn = KNeighborsClassifier()\n",
    "knn.fit(X_train,y_train)\n",
    "y_pred = knn.predict(X_test)\n",
    "accuracy_score(y_test,y_pred)"
   ]
  },
  {
   "cell_type": "markdown",
   "id": "2df2b1fc",
   "metadata": {},
   "source": [
    "## Decision Tree"
   ]
  },
  {
   "cell_type": "code",
   "execution_count": 28,
   "id": "58d431f3",
   "metadata": {},
   "outputs": [
    {
     "data": {
      "text/plain": [
       "0.9896907216494846"
      ]
     },
     "execution_count": 28,
     "metadata": {},
     "output_type": "execute_result"
    }
   ],
   "source": [
    "from sklearn.tree import DecisionTreeClassifier\n",
    "tree = DecisionTreeClassifier()\n",
    "tree.fit(X_train,y_train)\n",
    "y_pred = tree.predict(X_test)\n",
    "accuracy_score(y_test,y_pred)"
   ]
  },
  {
   "cell_type": "code",
   "execution_count": null,
   "id": "3e3941b5",
   "metadata": {},
   "outputs": [],
   "source": []
  },
  {
   "cell_type": "markdown",
   "id": "98affe1c",
   "metadata": {},
   "source": [
    "## Support Vector Classifier"
   ]
  },
  {
   "cell_type": "code",
   "execution_count": 29,
   "id": "dd88d8fc",
   "metadata": {},
   "outputs": [
    {
     "data": {
      "text/plain": [
       "1.0"
      ]
     },
     "execution_count": 29,
     "metadata": {},
     "output_type": "execute_result"
    }
   ],
   "source": [
    "from sklearn.svm import SVC\n",
    "sv = SVC()\n",
    "sv.fit(X_train,y_train)\n",
    "y_pred = sv.predict(X_test)\n",
    "accuracy_score(y_test,y_pred)"
   ]
  },
  {
   "cell_type": "code",
   "execution_count": null,
   "id": "08573091",
   "metadata": {},
   "outputs": [],
   "source": []
  },
  {
   "cell_type": "markdown",
   "id": "789b6150",
   "metadata": {},
   "source": [
    "# Logistic Regression"
   ]
  },
  {
   "cell_type": "code",
   "execution_count": 30,
   "id": "a769aec2",
   "metadata": {},
   "outputs": [
    {
     "data": {
      "text/plain": [
       "0.9896907216494846"
      ]
     },
     "execution_count": 30,
     "metadata": {},
     "output_type": "execute_result"
    }
   ],
   "source": [
    "from sklearn.linear_model import LogisticRegression\n",
    "log = LogisticRegression()\n",
    "log.fit(X_train,y_train)\n",
    "y_pred = log.predict(X_test)\n",
    "accuracy_score(y_test,y_pred)"
   ]
  },
  {
   "cell_type": "markdown",
   "id": "170b3018",
   "metadata": {},
   "source": [
    "## Naive Bayes"
   ]
  },
  {
   "cell_type": "code",
   "execution_count": 31,
   "id": "4b690252",
   "metadata": {},
   "outputs": [
    {
     "data": {
      "text/plain": [
       "0.42783505154639173"
      ]
     },
     "execution_count": 31,
     "metadata": {},
     "output_type": "execute_result"
    }
   ],
   "source": [
    "from sklearn.naive_bayes import MultinomialNB\n",
    "nb = MultinomialNB()\n",
    "nb.fit(X_train,y_train)\n",
    "y_pred = nb.predict(X_test)\n",
    "accuracy_score(y_test,y_pred)"
   ]
  },
  {
   "cell_type": "code",
   "execution_count": 34,
   "id": "53b779bf",
   "metadata": {},
   "outputs": [],
   "source": [
    "def upload_image(path):\n",
    "    array = cv2.imread(path,0)\n",
    "    resized = cv2.resize(array,(100,100))\n",
    "    data = resized.flatten()\n",
    "    print(log.predict([data])[0])"
   ]
  },
  {
   "cell_type": "code",
   "execution_count": 35,
   "id": "c096e4dd",
   "metadata": {},
   "outputs": [
    {
     "name": "stdout",
     "output_type": "stream",
     "text": [
      "Beagle\n"
     ]
    }
   ],
   "source": [
    "upload_image(r\"F:\\Dog_Breed-\\dataset\\Beagle\\Beagle_1.jpg\")"
   ]
  },
  {
   "cell_type": "code",
   "execution_count": null,
   "id": "cc8b5b48",
   "metadata": {},
   "outputs": [],
   "source": []
  },
  {
   "cell_type": "code",
   "execution_count": 36,
   "id": "c7d36781",
   "metadata": {},
   "outputs": [],
   "source": [
    "import pickle"
   ]
  },
  {
   "cell_type": "code",
   "execution_count": 37,
   "id": "0105a9dc",
   "metadata": {},
   "outputs": [],
   "source": [
    "pickle.dump(log,open(r\"LR1.pkl\",\"wb\"))  # writing as a binary format and # Saving the model using pickle"
   ]
  },
  {
   "cell_type": "code",
   "execution_count": 38,
   "id": "8223c45e",
   "metadata": {},
   "outputs": [],
   "source": [
    "Dog_brd = pickle.load(open(r\"LR1.pkl\",\"rb\"))   # Loading and using the model"
   ]
  },
  {
   "cell_type": "code",
   "execution_count": null,
   "id": "9869a479",
   "metadata": {},
   "outputs": [],
   "source": []
  },
  {
   "cell_type": "code",
   "execution_count": null,
   "id": "5c4cecd6",
   "metadata": {},
   "outputs": [],
   "source": []
  }
 ],
 "metadata": {
  "kernelspec": {
   "display_name": "Python 3 (ipykernel)",
   "language": "python",
   "name": "python3"
  },
  "language_info": {
   "codemirror_mode": {
    "name": "ipython",
    "version": 3
   },
   "file_extension": ".py",
   "mimetype": "text/x-python",
   "name": "python",
   "nbconvert_exporter": "python",
   "pygments_lexer": "ipython3",
   "version": "3.11.5"
  }
 },
 "nbformat": 4,
 "nbformat_minor": 5
}
